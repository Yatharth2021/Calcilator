{
 "cells": [
  {
   "cell_type": "code",
   "execution_count": 1,
   "metadata": {},
   "outputs": [
    {
     "name": "stdout",
     "output_type": "stream",
     "text": [
      "enter a number:29\n",
      "enter another number:38\n"
     ]
    }
   ],
   "source": [
    "no1= int (input(\"enter a number:\"))\n",
    "no2= int (input(\"enter another number:\"))"
   ]
  },
  {
   "cell_type": "code",
   "execution_count": 2,
   "metadata": {},
   "outputs": [
    {
     "name": "stdout",
     "output_type": "stream",
     "text": [
      " addition: 67 multiplication: 1102 subtraction: -9 division: 0.7631578947368421\n"
     ]
    }
   ],
   "source": [
    "def cal (no1,no2):\n",
    "    add= no1+no2\n",
    "    mul= no1*no2\n",
    "    sub= no1-no2\n",
    "    div= no1/no2\n",
    "    print (\" addition: \"+str(add)+\" multiplication: \"+str(mul)+\" subtraction: \"+str(sub)+\" division: \"+str(div))\n",
    "cal(no1,no2)"
   ]
  },
  {
   "cell_type": "code",
   "execution_count": null,
   "metadata": {},
   "outputs": [],
   "source": []
  }
 ],
 "metadata": {
  "kernelspec": {
   "display_name": "Python 3",
   "language": "python",
   "name": "python3"
  },
  "language_info": {
   "codemirror_mode": {
    "name": "ipython",
    "version": 3
   },
   "file_extension": ".py",
   "mimetype": "text/x-python",
   "name": "python",
   "nbconvert_exporter": "python",
   "pygments_lexer": "ipython3",
   "version": "3.8.5"
  }
 },
 "nbformat": 4,
 "nbformat_minor": 4
}
